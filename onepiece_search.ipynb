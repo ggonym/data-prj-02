import urllib.request
import urllib.parse
import json
import pandas as pd
import time

# 네이버 API 인증 정보
client_id = "YOUR_CLIENT_ID"        # 실제 값으로 교체
client_secret = "YOUR_CLIENT_SECRET"  # 실제 값으로 교체

# 검색어
query = "원피스"
encText = urllib.parse.quote(query)

# 기본 URL
base_url = "https://openapi.naver.com/v1/search/blog.json"

results = []

# 최대 500개 가져오기 (display=100씩 5회)
for start in range(1, 501, 100):
    params = f"?query={encText}&display=100&start={start}&sort=sim"
    url = base_url + params

    request = urllib.request.Request(url)
    request.add_header("X-Naver-Client-Id", client_id.strip())
    request.add_header("X-Naver-Client-Secret", client_secret.strip())

    try:
        response = urllib.request.urlopen(request)
        rescode = response.getcode()

        if rescode == 200:
            response_body = response.read()
            data = json.loads(response_body.decode('utf-8'))
            items = data['items']

            for item in items:
                results.append({
                    "title": item['title'],
                    "link": item['link'],
                    "description": item['description'],
                    "bloggername": item['bloggername'],
                    "bloggerlink": item['bloggerlink'],
                    "postdate": item['postdate']
                })
        else:
            print("Error Code:", rescode)
    except Exception as e:
        print("예외 발생:", e)

    time.sleep(0.1)  # 너무 빠른 요청 방지

# pandas DataFrame 변환 후 CSV 저장
df = pd.DataFrame(results)
df.to_csv("naver_blog_onepiece.csv", index=False, encoding="utf-8-sig")

print("CSV 저장 완료! 총 가져온 건수:", len(df))
